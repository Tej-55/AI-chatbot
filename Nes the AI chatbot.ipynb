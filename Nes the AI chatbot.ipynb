{
  "cells": [
    {
      "cell_type": "code",
      "execution_count": 1,
      "metadata": {
        "colab": {
          "base_uri": "https://localhost:8080/"
        },
        "id": "1nVsBNidnsOc",
        "outputId": "c195b5f0-9d1e-46b3-992c-a9a18008480d"
      },
      "outputs": [
        {
          "name": "stdout",
          "output_type": "stream",
          "text": [
            "Requirement already satisfied: SpeechRecognition in c:\\users\\tejas\\anaconda3\\lib\\site-packages (3.8.1)\n",
            "Requirement already satisfied: gTTS in c:\\users\\tejas\\anaconda3\\lib\\site-packages (2.2.4)\n",
            "Requirement already satisfied: requests in c:\\users\\tejas\\anaconda3\\lib\\site-packages (from gTTS) (2.27.1)\n",
            "Requirement already satisfied: six in c:\\users\\tejas\\anaconda3\\lib\\site-packages (from gTTS) (1.16.0)\n",
            "Requirement already satisfied: click in c:\\users\\tejas\\anaconda3\\lib\\site-packages (from gTTS) (8.0.4)\n",
            "Requirement already satisfied: colorama in c:\\users\\tejas\\anaconda3\\lib\\site-packages (from click->gTTS) (0.4.4)\n",
            "Requirement already satisfied: urllib3<1.27,>=1.21.1 in c:\\users\\tejas\\anaconda3\\lib\\site-packages (from requests->gTTS) (1.26.9)\n",
            "Requirement already satisfied: idna<4,>=2.5 in c:\\users\\tejas\\anaconda3\\lib\\site-packages (from requests->gTTS) (3.3)\n",
            "Requirement already satisfied: charset-normalizer~=2.0.0 in c:\\users\\tejas\\anaconda3\\lib\\site-packages (from requests->gTTS) (2.0.4)\n",
            "Requirement already satisfied: certifi>=2017.4.17 in c:\\users\\tejas\\anaconda3\\lib\\site-packages (from requests->gTTS) (2021.10.8)\n"
          ]
        }
      ],
      "source": [
        "#Install the necessary librarires\n",
        "\n",
        "# To be able to convert text to Speech\n",
        "#!pip install SpeechRecognition  \n",
        "#To convey the Speech to text and also speak it out\n",
        "#!pip install gTTS  \n",
        "# To install our language model\n",
        "#!pip install transformers  #(4.11.3)\n",
        "#!pip install tensorflow #(2.6.0, or pytorch)"
      ]
    },
    {
      "cell_type": "code",
      "execution_count": 2,
      "metadata": {
        "id": "PUAIRBPYpomR"
      },
      "outputs": [],
      "source": [
        "# for speech-to-text\n",
        "import speech_recognition as sr\n",
        "# for text-to-speech\n",
        "from gtts import gTTS\n",
        "# for language model\n",
        "import transformers\n",
        "import os\n",
        "import time\n",
        "# for data\n",
        "import os\n",
        "import datetime\n",
        "import numpy as np"
      ]
    },
    {
      "cell_type": "code",
      "execution_count": 3,
      "metadata": {
        "colab": {
          "base_uri": "https://localhost:8080/"
        },
        "id": "F6FbySfFuOMk",
        "outputId": "824542ef-8661-48b8-cb69-942cc26e7df6"
      },
      "outputs": [
        {
          "name": "stdout",
          "output_type": "stream",
          "text": [
            "Collecting pipwin\n",
            "  Downloading pipwin-0.5.2.tar.gz (7.9 kB)\n",
            "Collecting docopt\n",
            "  Downloading docopt-0.6.2.tar.gz (25 kB)\n",
            "Requirement already satisfied: requests in c:\\users\\tejas\\anaconda3\\lib\\site-packages (from pipwin) (2.27.1)\n",
            "Collecting pyprind\n",
            "  Downloading PyPrind-2.11.3-py2.py3-none-any.whl (8.4 kB)\n",
            "Requirement already satisfied: six in c:\\users\\tejas\\anaconda3\\lib\\site-packages (from pipwin) (1.16.0)\n",
            "Requirement already satisfied: beautifulsoup4>=4.9.0 in c:\\users\\tejas\\anaconda3\\lib\\site-packages (from pipwin) (4.11.1)\n",
            "Collecting js2py\n",
            "  Downloading Js2Py-0.74-py3-none-any.whl (1.0 MB)\n",
            "Requirement already satisfied: packaging in c:\\users\\tejas\\anaconda3\\lib\\site-packages (from pipwin) (21.3)\n",
            "Collecting pySmartDL>=1.3.1\n",
            "  Downloading pySmartDL-1.3.4-py3-none-any.whl (20 kB)\n",
            "Requirement already satisfied: soupsieve>1.2 in c:\\users\\tejas\\anaconda3\\lib\\site-packages (from beautifulsoup4>=4.9.0->pipwin) (2.3.1)\n",
            "Collecting tzlocal>=1.2\n",
            "  Downloading tzlocal-4.2-py3-none-any.whl (19 kB)\n",
            "Collecting pyjsparser>=2.5.1\n",
            "  Downloading pyjsparser-2.7.1.tar.gz (24 kB)\n",
            "Collecting tzdata\n",
            "  Downloading tzdata-2022.7-py2.py3-none-any.whl (340 kB)\n",
            "Collecting pytz-deprecation-shim\n",
            "  Downloading pytz_deprecation_shim-0.1.0.post0-py2.py3-none-any.whl (15 kB)\n",
            "Requirement already satisfied: pyparsing!=3.0.5,>=2.0.2 in c:\\users\\tejas\\anaconda3\\lib\\site-packages (from packaging->pipwin) (3.0.4)\n",
            "Requirement already satisfied: urllib3<1.27,>=1.21.1 in c:\\users\\tejas\\anaconda3\\lib\\site-packages (from requests->pipwin) (1.26.9)\n",
            "Requirement already satisfied: charset-normalizer~=2.0.0 in c:\\users\\tejas\\anaconda3\\lib\\site-packages (from requests->pipwin) (2.0.4)\n",
            "Requirement already satisfied: certifi>=2017.4.17 in c:\\users\\tejas\\anaconda3\\lib\\site-packages (from requests->pipwin) (2021.10.8)\n",
            "Requirement already satisfied: idna<4,>=2.5 in c:\\users\\tejas\\anaconda3\\lib\\site-packages (from requests->pipwin) (3.3)\n",
            "Building wheels for collected packages: pipwin, docopt, pyjsparser\n",
            "  Building wheel for pipwin (setup.py): started\n",
            "  Building wheel for pipwin (setup.py): finished with status 'done'\n",
            "  Created wheel for pipwin: filename=pipwin-0.5.2-py2.py3-none-any.whl size=8790 sha256=bed9f38d8b433b4c39224cf2e7fdc8e5ff73b9de7cd63f7f48b0b74cf0d4634e\n",
            "  Stored in directory: c:\\users\\tejas\\appdata\\local\\pip\\cache\\wheels\\bc\\86\\30\\f70db104d3f51560d9a177d6ced4f7e09f3e474d6985c101ae\n",
            "  Building wheel for docopt (setup.py): started\n",
            "  Building wheel for docopt (setup.py): finished with status 'done'\n",
            "  Created wheel for docopt: filename=docopt-0.6.2-py2.py3-none-any.whl size=13723 sha256=fecdaf0dddf73b9cefec5210acc149a7b24facb179e76551d6ac10bf099de72a\n",
            "  Stored in directory: c:\\users\\tejas\\appdata\\local\\pip\\cache\\wheels\\70\\4a\\46\\1309fc853b8d395e60bafaf1b6df7845bdd82c95fd59dd8d2b\n",
            "  Building wheel for pyjsparser (setup.py): started\n",
            "  Building wheel for pyjsparser (setup.py): finished with status 'done'\n",
            "  Created wheel for pyjsparser: filename=pyjsparser-2.7.1-py3-none-any.whl size=26000 sha256=43fd00cac6e767c9c58d5715a037d0adcddfadaa6fac63e6de9cba7a41783cb8\n",
            "  Stored in directory: c:\\users\\tejas\\appdata\\local\\pip\\cache\\wheels\\f0\\70\\61\\f42dc45dcf0fbe8c495ce579b04730787081499bfb5b8bc60e\n",
            "Successfully built pipwin docopt pyjsparser\n",
            "Installing collected packages: tzdata, pytz-deprecation-shim, tzlocal, pyjsparser, pySmartDL, pyprind, js2py, docopt, pipwin\n",
            "Successfully installed docopt-0.6.2 js2py-0.74 pipwin-0.5.2 pySmartDL-1.3.4 pyjsparser-2.7.1 pyprind-2.11.3 pytz-deprecation-shim-0.1.0.post0 tzdata-2022.7 tzlocal-4.2\n",
            "Building cache. Hang on . . .\n"
          ]
        },
        {
          "name": "stderr",
          "output_type": "stream",
          "text": [
            "Traceback (most recent call last):\n",
            "  File \"C:\\Users\\TEJAS\\anaconda3\\lib\\site-packages\\urllib3\\connectionpool.py\", line 703, in urlopen\n",
            "    httplib_response = self._make_request(\n",
            "  File \"C:\\Users\\TEJAS\\anaconda3\\lib\\site-packages\\urllib3\\connectionpool.py\", line 386, in _make_request\n",
            "    self._validate_conn(conn)\n",
            "  File \"C:\\Users\\TEJAS\\anaconda3\\lib\\site-packages\\urllib3\\connectionpool.py\", line 1040, in _validate_conn\n",
            "    conn.connect()\n",
            "  File \"C:\\Users\\TEJAS\\anaconda3\\lib\\site-packages\\urllib3\\connection.py\", line 414, in connect\n",
            "    self.sock = ssl_wrap_socket(\n",
            "  File \"C:\\Users\\TEJAS\\anaconda3\\lib\\site-packages\\urllib3\\util\\ssl_.py\", line 449, in ssl_wrap_socket\n",
            "    ssl_sock = _ssl_wrap_socket_impl(\n",
            "  File \"C:\\Users\\TEJAS\\anaconda3\\lib\\site-packages\\urllib3\\util\\ssl_.py\", line 493, in _ssl_wrap_socket_impl\n",
            "    return ssl_context.wrap_socket(sock, server_hostname=server_hostname)\n",
            "  File \"C:\\Users\\TEJAS\\anaconda3\\lib\\ssl.py\", line 500, in wrap_socket\n",
            "    return self.sslsocket_class._create(\n",
            "  File \"C:\\Users\\TEJAS\\anaconda3\\lib\\ssl.py\", line 1040, in _create\n",
            "    self.do_handshake()\n",
            "  File \"C:\\Users\\TEJAS\\anaconda3\\lib\\ssl.py\", line 1309, in do_handshake\n",
            "    self._sslobj.do_handshake()\n",
            "ssl.SSLCertVerificationError: [SSL: CERTIFICATE_VERIFY_FAILED] certificate verify failed: certificate has expired (_ssl.c:1129)\n",
            "\n",
            "During handling of the above exception, another exception occurred:\n",
            "\n",
            "Traceback (most recent call last):\n",
            "  File \"C:\\Users\\TEJAS\\anaconda3\\lib\\site-packages\\requests\\adapters.py\", line 440, in send\n",
            "    resp = conn.urlopen(\n",
            "  File \"C:\\Users\\TEJAS\\anaconda3\\lib\\site-packages\\urllib3\\connectionpool.py\", line 785, in urlopen\n",
            "    retries = retries.increment(\n",
            "  File \"C:\\Users\\TEJAS\\anaconda3\\lib\\site-packages\\urllib3\\util\\retry.py\", line 592, in increment\n",
            "    raise MaxRetryError(_pool, url, error or ResponseError(cause))\n",
            "urllib3.exceptions.MaxRetryError: HTTPSConnectionPool(host='www.lfd.uci.edu', port=443): Max retries exceeded with url: /~gohlke/pythonlibs/ (Caused by SSLError(SSLCertVerificationError(1, '[SSL: CERTIFICATE_VERIFY_FAILED] certificate verify failed: certificate has expired (_ssl.c:1129)')))\n",
            "\n",
            "During handling of the above exception, another exception occurred:\n",
            "\n",
            "Traceback (most recent call last):\n",
            "  File \"C:\\Users\\TEJAS\\anaconda3\\lib\\runpy.py\", line 197, in _run_module_as_main\n",
            "    return _run_code(code, main_globals, None,\n",
            "  File \"C:\\Users\\TEJAS\\anaconda3\\lib\\runpy.py\", line 87, in _run_code\n",
            "    exec(code, run_globals)\n",
            "  File \"C:\\Users\\TEJAS\\anaconda3\\Scripts\\pipwin.exe\\__main__.py\", line 7, in <module>\n",
            "  File \"C:\\Users\\TEJAS\\anaconda3\\lib\\site-packages\\pipwin\\command.py\", line 84, in main\n",
            "    cache = pipwin.PipwinCache()\n",
            "  File \"C:\\Users\\TEJAS\\anaconda3\\lib\\site-packages\\pipwin\\pipwin.py\", line 210, in __init__\n",
            "    self.data = build_cache()\n",
            "  File \"C:\\Users\\TEJAS\\anaconda3\\lib\\site-packages\\pipwin\\pipwin.py\", line 86, in build_cache\n",
            "    response = requests.request(\"GET\", MAIN_URL, headers=HEADER)\n",
            "  File \"C:\\Users\\TEJAS\\anaconda3\\lib\\site-packages\\requests\\api.py\", line 61, in request\n",
            "    return session.request(method=method, url=url, **kwargs)\n",
            "  File \"C:\\Users\\TEJAS\\anaconda3\\lib\\site-packages\\requests\\sessions.py\", line 529, in request\n",
            "    resp = self.send(prep, **send_kwargs)\n",
            "  File \"C:\\Users\\TEJAS\\anaconda3\\lib\\site-packages\\requests\\sessions.py\", line 667, in send\n",
            "    history = [resp for resp in gen]\n",
            "  File \"C:\\Users\\TEJAS\\anaconda3\\lib\\site-packages\\requests\\sessions.py\", line 667, in <listcomp>\n",
            "    history = [resp for resp in gen]\n",
            "  File \"C:\\Users\\TEJAS\\anaconda3\\lib\\site-packages\\requests\\sessions.py\", line 237, in resolve_redirects\n",
            "    resp = self.send(\n",
            "  File \"C:\\Users\\TEJAS\\anaconda3\\lib\\site-packages\\requests\\sessions.py\", line 645, in send\n",
            "    r = adapter.send(request, **kwargs)\n",
            "  File \"C:\\Users\\TEJAS\\anaconda3\\lib\\site-packages\\requests\\adapters.py\", line 517, in send\n",
            "    raise SSLError(e, request=request)\n",
            "requests.exceptions.SSLError: HTTPSConnectionPool(host='www.lfd.uci.edu', port=443): Max retries exceeded with url: /~gohlke/pythonlibs/ (Caused by SSLError(SSLCertVerificationError(1, '[SSL: CERTIFICATE_VERIFY_FAILED] certificate verify failed: certificate has expired (_ssl.c:1129)')))\n"
          ]
        }
      ],
      "source": [
        "!pip install pipwin \n",
        "!pipwin install pyaudio"
      ]
    },
    {
      "cell_type": "code",
      "execution_count": 11,
      "metadata": {
        "id": "q8ekvCtxnzM3"
      },
      "outputs": [],
      "source": [
        "# Beginning of the AI\n",
        "class ChatBot():\n",
        "    def __init__(self, name):\n",
        "        print(\"----- starting up\", name, \"-----\")\n",
        "        self.name = name\n",
        "\n",
        "    def speech_to_text(self):\n",
        "      recognizer = sr.Recognizer()\n",
        "      with sr.Microphone() as mic:\n",
        "          print(\"listening...\")\n",
        "          audio = recognizer.listen(mic)\n",
        "      try:\n",
        "          self.text = recognizer.recognize_google(audio)\n",
        "          print(\"me --> \", self.text)\n",
        "      except:\n",
        "          print(\"me -->  ERROR\")\n",
        "\n",
        "    def wake_up(self, text):\n",
        "      return True if self.name in text.lower() else False\n",
        "\n",
        "    @staticmethod\n",
        "    def text_to_speech(text):\n",
        "      print(\"Nes --> \", text)\n",
        "      speaker = gTTS(text=text, lang=\"en\", slow=False)\n",
        "      speaker.save(\"res.mp3\")\n",
        "      statbuf = os.stat(\"res.mp3\")\n",
        "      mbytes = statbuf.st_size / 1024\n",
        "      duration = mbytes / 200\n",
        "      os.system(\"start res.mp3\")  #if you have a macbook->afplay or for windows use->start\n",
        "      # os.system(\"close res.mp3\")\n",
        "      time.sleep(int(50*duration))\n",
        "      os.remove(\"res.mp3\")\n",
        "\n",
        "    def action_time():\n",
        "        return datetime.datetime.now().time().strftime('%H:%M')\n",
        "      \n"
      ]
    },
    {
      "cell_type": "code",
      "execution_count": 12,
      "metadata": {
        "colab": {
          "base_uri": "https://localhost:8080/",
          "height": 449
        },
        "id": "ZiW4enL_mJ3B",
        "outputId": "ba78bc47-8925-4f14-8be1-97184a7af728"
      },
      "outputs": [
        {
          "name": "stdout",
          "output_type": "stream",
          "text": [
            "----- starting up Nes -----\n"
          ]
        },
        {
          "name": "stderr",
          "output_type": "stream",
          "text": [
            "All model checkpoint layers were used when initializing TFGPT2LMHeadModel.\n",
            "\n",
            "All the layers of TFGPT2LMHeadModel were initialized from the model checkpoint at microsoft/DialoGPT-medium.\n",
            "If your task is similar to the task the model of the checkpoint was trained on, you can already use TFGPT2LMHeadModel for predictions without further training.\n"
          ]
        }
      ],
      "source": [
        "#Those two functions can be used like this\n",
        "# Execute the AI\n",
        "if __name__ == \"__main__\":\n",
        "    ai = ChatBot(name=\"Nes\")\n",
        "    nlp = transformers.pipeline(\"conversational\", model=\"microsoft/DialoGPT-medium\")\n",
        "    os.environ[\"TOKENIZERS_PARALLELISM\"] = \"true\"\n",
        "    ex=True\n"
      ]
    },
    {
      "cell_type": "code",
      "execution_count": 14,
      "metadata": {},
      "outputs": [
        {
          "name": "stdout",
          "output_type": "stream",
          "text": [
            "listening...\n",
            "me -->  ERROR\n",
            "Nes -->  Hello! :D\n",
            "listening...\n"
          ]
        },
        {
          "ename": "KeyboardInterrupt",
          "evalue": "",
          "output_type": "error",
          "traceback": [
            "\u001b[1;31m---------------------------------------------------------------------------\u001b[0m",
            "\u001b[1;31mKeyboardInterrupt\u001b[0m                         Traceback (most recent call last)",
            "\u001b[1;32mc:\\Users\\TEJAS\\Machine Learning\\Nes\\Nes the AI chatbot.ipynb Cell 6\u001b[0m in \u001b[0;36m<cell line: 1>\u001b[1;34m()\u001b[0m\n\u001b[0;32m      <a href='vscode-notebook-cell:/c%3A/Users/TEJAS/Machine%20Learning/Nes/Nes%20the%20AI%20chatbot.ipynb#X10sZmlsZQ%3D%3D?line=0'>1</a>\u001b[0m \u001b[39mwhile\u001b[39;00m ex:\n\u001b[1;32m----> <a href='vscode-notebook-cell:/c%3A/Users/TEJAS/Machine%20Learning/Nes/Nes%20the%20AI%20chatbot.ipynb#X10sZmlsZQ%3D%3D?line=1'>2</a>\u001b[0m     ai\u001b[39m.\u001b[39;49mspeech_to_text()\n\u001b[0;32m      <a href='vscode-notebook-cell:/c%3A/Users/TEJAS/Machine%20Learning/Nes/Nes%20the%20AI%20chatbot.ipynb#X10sZmlsZQ%3D%3D?line=2'>3</a>\u001b[0m     \u001b[39m## wake up\u001b[39;00m\n\u001b[0;32m      <a href='vscode-notebook-cell:/c%3A/Users/TEJAS/Machine%20Learning/Nes/Nes%20the%20AI%20chatbot.ipynb#X10sZmlsZQ%3D%3D?line=3'>4</a>\u001b[0m     \u001b[39mif\u001b[39;00m ai\u001b[39m.\u001b[39mwake_up(ai\u001b[39m.\u001b[39mtext) \u001b[39mis\u001b[39;00m \u001b[39mTrue\u001b[39;00m:\n",
            "\u001b[1;32mc:\\Users\\TEJAS\\Machine Learning\\Nes\\Nes the AI chatbot.ipynb Cell 6\u001b[0m in \u001b[0;36mChatBot.speech_to_text\u001b[1;34m(self)\u001b[0m\n\u001b[0;32m      <a href='vscode-notebook-cell:/c%3A/Users/TEJAS/Machine%20Learning/Nes/Nes%20the%20AI%20chatbot.ipynb#X10sZmlsZQ%3D%3D?line=8'>9</a>\u001b[0m \u001b[39mwith\u001b[39;00m sr\u001b[39m.\u001b[39mMicrophone() \u001b[39mas\u001b[39;00m mic:\n\u001b[0;32m     <a href='vscode-notebook-cell:/c%3A/Users/TEJAS/Machine%20Learning/Nes/Nes%20the%20AI%20chatbot.ipynb#X10sZmlsZQ%3D%3D?line=9'>10</a>\u001b[0m     \u001b[39mprint\u001b[39m(\u001b[39m\"\u001b[39m\u001b[39mlistening...\u001b[39m\u001b[39m\"\u001b[39m)\n\u001b[1;32m---> <a href='vscode-notebook-cell:/c%3A/Users/TEJAS/Machine%20Learning/Nes/Nes%20the%20AI%20chatbot.ipynb#X10sZmlsZQ%3D%3D?line=10'>11</a>\u001b[0m     audio \u001b[39m=\u001b[39m recognizer\u001b[39m.\u001b[39;49mlisten(mic)\n\u001b[0;32m     <a href='vscode-notebook-cell:/c%3A/Users/TEJAS/Machine%20Learning/Nes/Nes%20the%20AI%20chatbot.ipynb#X10sZmlsZQ%3D%3D?line=11'>12</a>\u001b[0m \u001b[39mtry\u001b[39;00m:\n\u001b[0;32m     <a href='vscode-notebook-cell:/c%3A/Users/TEJAS/Machine%20Learning/Nes/Nes%20the%20AI%20chatbot.ipynb#X10sZmlsZQ%3D%3D?line=12'>13</a>\u001b[0m     \u001b[39mself\u001b[39m\u001b[39m.\u001b[39mtext \u001b[39m=\u001b[39m recognizer\u001b[39m.\u001b[39mrecognize_google(audio)\n",
            "File \u001b[1;32mc:\\Users\\TEJAS\\anaconda3\\lib\\site-packages\\speech_recognition\\__init__.py:652\u001b[0m, in \u001b[0;36mRecognizer.listen\u001b[1;34m(self, source, timeout, phrase_time_limit, snowboy_configuration)\u001b[0m\n\u001b[0;32m    649\u001b[0m \u001b[39mif\u001b[39;00m phrase_time_limit \u001b[39mand\u001b[39;00m elapsed_time \u001b[39m-\u001b[39m phrase_start_time \u001b[39m>\u001b[39m phrase_time_limit:\n\u001b[0;32m    650\u001b[0m     \u001b[39mbreak\u001b[39;00m\n\u001b[1;32m--> 652\u001b[0m buffer \u001b[39m=\u001b[39m source\u001b[39m.\u001b[39;49mstream\u001b[39m.\u001b[39;49mread(source\u001b[39m.\u001b[39;49mCHUNK)\n\u001b[0;32m    653\u001b[0m \u001b[39mif\u001b[39;00m \u001b[39mlen\u001b[39m(buffer) \u001b[39m==\u001b[39m \u001b[39m0\u001b[39m: \u001b[39mbreak\u001b[39;00m  \u001b[39m# reached end of the stream\u001b[39;00m\n\u001b[0;32m    654\u001b[0m frames\u001b[39m.\u001b[39mappend(buffer)\n",
            "File \u001b[1;32mc:\\Users\\TEJAS\\anaconda3\\lib\\site-packages\\speech_recognition\\__init__.py:161\u001b[0m, in \u001b[0;36mMicrophone.MicrophoneStream.read\u001b[1;34m(self, size)\u001b[0m\n\u001b[0;32m    160\u001b[0m \u001b[39mdef\u001b[39;00m \u001b[39mread\u001b[39m(\u001b[39mself\u001b[39m, size):\n\u001b[1;32m--> 161\u001b[0m     \u001b[39mreturn\u001b[39;00m \u001b[39mself\u001b[39;49m\u001b[39m.\u001b[39;49mpyaudio_stream\u001b[39m.\u001b[39;49mread(size, exception_on_overflow\u001b[39m=\u001b[39;49m\u001b[39mFalse\u001b[39;49;00m)\n",
            "File \u001b[1;32mc:\\Users\\TEJAS\\anaconda3\\lib\\site-packages\\pyaudio.py:612\u001b[0m, in \u001b[0;36mStream.read\u001b[1;34m(self, num_frames, exception_on_overflow)\u001b[0m\n\u001b[0;32m    608\u001b[0m \u001b[39mif\u001b[39;00m \u001b[39mnot\u001b[39;00m \u001b[39mself\u001b[39m\u001b[39m.\u001b[39m_is_input:\n\u001b[0;32m    609\u001b[0m     \u001b[39mraise\u001b[39;00m \u001b[39mIOError\u001b[39;00m(\u001b[39m\"\u001b[39m\u001b[39mNot input stream\u001b[39m\u001b[39m\"\u001b[39m,\n\u001b[0;32m    610\u001b[0m                   paCanNotReadFromAnOutputOnlyStream)\n\u001b[1;32m--> 612\u001b[0m \u001b[39mreturn\u001b[39;00m pa\u001b[39m.\u001b[39;49mread_stream(\u001b[39mself\u001b[39;49m\u001b[39m.\u001b[39;49m_stream, num_frames, exception_on_overflow)\n",
            "\u001b[1;31mKeyboardInterrupt\u001b[0m: "
          ]
        }
      ],
      "source": [
        "while ex:\n",
        "    ai.speech_to_text()\n",
        "    ## wake up\n",
        "    if ai.wake_up(ai.text) is True:\n",
        "        res = \"Hello I am Nes the AI, what can I do for you?\"\n",
        "    else:   \n",
        "        if ai.text==\"ERROR\":\n",
        "            res=\"Sorry, come again?\"\n",
        "            ex = False\n",
        "        else:\n",
        "            chat = nlp(transformers.Conversation(ai.text))\n",
        "            res = str(chat)\n",
        "            res = res[res.find(\"bot >> \")+6:].strip()\n",
        "    ai.text_to_speech(res)\n",
        "print(\"----- Closing down Dev -----\")"
      ]
    },
    {
      "cell_type": "code",
      "execution_count": null,
      "metadata": {
        "id": "ZUOl9b0FoUtV"
      },
      "outputs": [],
      "source": [
        "# Running the AI\n",
        "if __name__ == \"__main__\":\n",
        "    ai = ChatBot(name=\"dev\")\n",
        "    nlp = transformers.pipeline(\"conversational\", model=\"microsoft/DialoGPT-medium\")\n",
        "    os.environ[\"TOKENIZERS_PARALLELISM\"] = \"true\"\n",
        "    ex=True\n",
        "    while ex:\n",
        "        ai.speech_to_text()\n",
        "        ## wake up\n",
        "        if ai.wake_up(ai.text) is True:\n",
        "            res = \"Hello I am Nes 2.0 the AI, what can I do for you?\"\n",
        "        ## action time\n",
        "        elif \"time\" in ai.text:\n",
        "            res = ai.action_time()\n",
        "        ## respond politely\n",
        "        elif any(i in ai.text for i in [\"thank\",\"thanks\"]):\n",
        "            res = np.random.choice([\"you're welcome!\",\"anytime!\",\"no problem!\",\"cool!\",\"I'm here if you need me!\",\"mention not\"])\n",
        "        elif any(i in ai.text for i in [\"exit\",\"close\"]):\n",
        "            res = np.random.choice([\"Tata\",\"Have a good day\",\"Bye\",\"Goodbye\",\"Hope to meet soon\",\"peace out!\"])\n",
        "            ex=False\n",
        "        ## conversation\n",
        "        else:   \n",
        "            if ai.text==\"ERROR\":\n",
        "                res=\"Sorry, come again?\"\n",
        "            else:\n",
        "                chat = nlp(transformers.Conversation(ai.text), pad_token_id=50256)\n",
        "                res = str(chat)\n",
        "                res = res[res.find(\"bot >> \")+6:].strip()\n",
        "        ai.text_to_speech(res)\n",
        "    print(\"----- Closing down Dev -----\")"
      ]
    },
    {
      "cell_type": "code",
      "execution_count": null,
      "metadata": {
        "id": "CbOCNdrGolzS"
      },
      "outputs": [],
      "source": []
    }
  ],
  "metadata": {
    "colab": {
      "provenance": []
    },
    "kernelspec": {
      "display_name": "base",
      "language": "python",
      "name": "python3"
    },
    "language_info": {
      "codemirror_mode": {
        "name": "ipython",
        "version": 3
      },
      "file_extension": ".py",
      "mimetype": "text/x-python",
      "name": "python",
      "nbconvert_exporter": "python",
      "pygments_lexer": "ipython3",
      "version": "3.9.12"
    },
    "vscode": {
      "interpreter": {
        "hash": "b12b4f83a26b09be95d25162a029a582e85d825f62e213c8e3766a813b9081d7"
      }
    }
  },
  "nbformat": 4,
  "nbformat_minor": 0
}
